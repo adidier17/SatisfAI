{
 "cells": [
  {
   "cell_type": "markdown",
   "metadata": {},
   "source": [
    "This is a first pass exploration of text preprocessing using SpaCy and topic modeling with Genism's LDA algorithm. "
   ]
  },
  {
   "cell_type": "code",
   "execution_count": 2,
   "metadata": {},
   "outputs": [
    {
     "data": {
      "text/html": [
       "<div>\n",
       "<style>\n",
       "    .dataframe thead tr:only-child th {\n",
       "        text-align: right;\n",
       "    }\n",
       "\n",
       "    .dataframe thead th {\n",
       "        text-align: left;\n",
       "    }\n",
       "\n",
       "    .dataframe tbody tr th {\n",
       "        vertical-align: top;\n",
       "    }\n",
       "</style>\n",
       "<table border=\"1\" class=\"dataframe\">\n",
       "  <thead>\n",
       "    <tr style=\"text-align: right;\">\n",
       "      <th></th>\n",
       "      <th>tickets_id</th>\n",
       "      <th>tickets_assignee_id</th>\n",
       "      <th>tickets_created_at</th>\n",
       "      <th>tickets_custom_field_20180577</th>\n",
       "      <th>tickets_custom_field_21024293</th>\n",
       "      <th>tickets_custom_field_22526998</th>\n",
       "      <th>tickets_custom_field_24112003</th>\n",
       "      <th>tickets_custom_field_27311858</th>\n",
       "      <th>tickets_custom_field_505895</th>\n",
       "      <th>tickets_description</th>\n",
       "      <th>...</th>\n",
       "      <th>metric_sets_reply_time_in_minutes_business</th>\n",
       "      <th>metric_sets_reply_time_in_minutes_calendar</th>\n",
       "      <th>metric_sets_requester_updated_at</th>\n",
       "      <th>metric_sets_requester_wait_time_in_minutes_business</th>\n",
       "      <th>metric_sets_requester_wait_time_in_minutes_calendar</th>\n",
       "      <th>metric_sets_solved_at</th>\n",
       "      <th>metric_sets_status_updated_at</th>\n",
       "      <th>metric_sets_updated_at</th>\n",
       "      <th>ticket_channel</th>\n",
       "      <th>lob</th>\n",
       "    </tr>\n",
       "  </thead>\n",
       "  <tbody>\n",
       "    <tr>\n",
       "      <th>0</th>\n",
       "      <td>52814760</td>\n",
       "      <td>14143076948</td>\n",
       "      <td>2016-12-14 20:24:01.000000</td>\n",
       "      <td>622331045.0</td>\n",
       "      <td>refund_issued</td>\n",
       "      <td>reason4_2g13</td>\n",
       "      <td>ctlamkl@yahoo.com</td>\n",
       "      <td>LG-TNVK-M1FC-JX4T-R2FC</td>\n",
       "      <td>gg-xbox-360-camouflage-wireless-controller</td>\n",
       "      <td>\\nCustomer Contact Reason Drop-down1: Item del...</td>\n",
       "      <td>...</td>\n",
       "      <td>401</td>\n",
       "      <td>557</td>\n",
       "      <td>2016-12-14 20:24:01.000000</td>\n",
       "      <td>401</td>\n",
       "      <td>557</td>\n",
       "      <td>2016-12-15 05:40:48.000000</td>\n",
       "      <td>2016-12-29 06:09:00.000000</td>\n",
       "      <td>2016-12-15 05:40:48.000000</td>\n",
       "      <td>Contact Us</td>\n",
       "      <td>Goods</td>\n",
       "    </tr>\n",
       "    <tr>\n",
       "      <th>1</th>\n",
       "      <td>52412687</td>\n",
       "      <td>3958975757</td>\n",
       "      <td>2016-12-08 08:02:06.000000</td>\n",
       "      <td>608726425.0</td>\n",
       "      <td>refund_not_discussed</td>\n",
       "      <td>reason4_2f1</td>\n",
       "      <td>rescuerenee@gmail.com</td>\n",
       "      <td>LG-YWSX-72ZV-7H74-KPKH</td>\n",
       "      <td>wow-starbucks-6</td>\n",
       "      <td>\\nCustomer Contact Reason Drop-down1: Managing...</td>\n",
       "      <td>...</td>\n",
       "      <td>0</td>\n",
       "      <td>4</td>\n",
       "      <td>2016-12-08 08:25:05.000000</td>\n",
       "      <td>0</td>\n",
       "      <td>8</td>\n",
       "      <td>2016-12-15 09:04:09.000000</td>\n",
       "      <td>2016-12-29 10:07:29.000000</td>\n",
       "      <td>2016-12-15 09:04:10.000000</td>\n",
       "      <td>Contact Us</td>\n",
       "      <td>Local</td>\n",
       "    </tr>\n",
       "    <tr>\n",
       "      <th>2</th>\n",
       "      <td>51805897</td>\n",
       "      <td>1180628008</td>\n",
       "      <td>2016-11-29 04:24:40.000000</td>\n",
       "      <td>255136503.0</td>\n",
       "      <td>refund_issued</td>\n",
       "      <td>reason4_2f3</td>\n",
       "      <td>d_castrosr@yahoo.com</td>\n",
       "      <td>241897357-0-1</td>\n",
       "      <td>mymms-com-9-boston</td>\n",
       "      <td>\\nCustomer Contact Reason Drop-down1: Problem ...</td>\n",
       "      <td>...</td>\n",
       "      <td>101</td>\n",
       "      <td>101</td>\n",
       "      <td>2016-12-03 07:02:33.000000</td>\n",
       "      <td>1329</td>\n",
       "      <td>3324</td>\n",
       "      <td>2016-12-02 01:27:38.000000</td>\n",
       "      <td>2016-12-16 02:09:57.000000</td>\n",
       "      <td>2016-12-02 01:27:39.000000</td>\n",
       "      <td>Contact Us</td>\n",
       "      <td>Local</td>\n",
       "    </tr>\n",
       "    <tr>\n",
       "      <th>3</th>\n",
       "      <td>52297843</td>\n",
       "      <td>6071705957</td>\n",
       "      <td>2016-12-07 01:13:59.000000</td>\n",
       "      <td>619034955.0</td>\n",
       "      <td>refund_not_discussed</td>\n",
       "      <td>reason4_2g19</td>\n",
       "      <td>vkuhn@nycap.rr.com</td>\n",
       "      <td>GG-19N2-7XKL-32XN-N759</td>\n",
       "      <td>gg-tulipmist-ultrasonic-essential-oil-diffuser</td>\n",
       "      <td>\\nCustomer Contact Reason Drop-down1: Item del...</td>\n",
       "      <td>...</td>\n",
       "      <td>406</td>\n",
       "      <td>525</td>\n",
       "      <td>2016-12-07 01:13:58.000000</td>\n",
       "      <td>406</td>\n",
       "      <td>525</td>\n",
       "      <td>2016-12-07 09:58:42.000000</td>\n",
       "      <td>2016-12-21 10:06:38.000000</td>\n",
       "      <td>2016-12-07 09:58:43.000000</td>\n",
       "      <td>Contact Us</td>\n",
       "      <td>Goods</td>\n",
       "    </tr>\n",
       "    <tr>\n",
       "      <th>4</th>\n",
       "      <td>52424023</td>\n",
       "      <td>14676246228</td>\n",
       "      <td>2016-12-08 11:03:36.000000</td>\n",
       "      <td>628595395.0</td>\n",
       "      <td>refund_issued</td>\n",
       "      <td>reason4_2f10</td>\n",
       "      <td>snewtonrobbins@gmail.com</td>\n",
       "      <td>LG-7VRW-36BM-WC29-BSTM</td>\n",
       "      <td>shari-s-berries-1103-orange-county</td>\n",
       "      <td>\\nCustomer Contact Reason Drop-down1: Somethin...</td>\n",
       "      <td>...</td>\n",
       "      <td>0</td>\n",
       "      <td>477</td>\n",
       "      <td>2016-12-09 23:12:05.000000</td>\n",
       "      <td>0</td>\n",
       "      <td>477</td>\n",
       "      <td>2016-12-08 19:00:26.000000</td>\n",
       "      <td>2016-12-22 20:03:46.000000</td>\n",
       "      <td>2016-12-08 19:00:26.000000</td>\n",
       "      <td>Contact Us</td>\n",
       "      <td>Local</td>\n",
       "    </tr>\n",
       "  </tbody>\n",
       "</table>\n",
       "<p>5 rows × 43 columns</p>\n",
       "</div>"
      ],
      "text/plain": [
       "   tickets_id  tickets_assignee_id          tickets_created_at  \\\n",
       "0    52814760          14143076948  2016-12-14 20:24:01.000000   \n",
       "1    52412687           3958975757  2016-12-08 08:02:06.000000   \n",
       "2    51805897           1180628008  2016-11-29 04:24:40.000000   \n",
       "3    52297843           6071705957  2016-12-07 01:13:59.000000   \n",
       "4    52424023          14676246228  2016-12-08 11:03:36.000000   \n",
       "\n",
       "   tickets_custom_field_20180577 tickets_custom_field_21024293  \\\n",
       "0                    622331045.0                 refund_issued   \n",
       "1                    608726425.0          refund_not_discussed   \n",
       "2                    255136503.0                 refund_issued   \n",
       "3                    619034955.0          refund_not_discussed   \n",
       "4                    628595395.0                 refund_issued   \n",
       "\n",
       "  tickets_custom_field_22526998 tickets_custom_field_24112003  \\\n",
       "0                  reason4_2g13             ctlamkl@yahoo.com   \n",
       "1                   reason4_2f1         rescuerenee@gmail.com   \n",
       "2                   reason4_2f3          d_castrosr@yahoo.com   \n",
       "3                  reason4_2g19            vkuhn@nycap.rr.com   \n",
       "4                  reason4_2f10      snewtonrobbins@gmail.com   \n",
       "\n",
       "  tickets_custom_field_27311858  \\\n",
       "0        LG-TNVK-M1FC-JX4T-R2FC   \n",
       "1        LG-YWSX-72ZV-7H74-KPKH   \n",
       "2                 241897357-0-1   \n",
       "3        GG-19N2-7XKL-32XN-N759   \n",
       "4        LG-7VRW-36BM-WC29-BSTM   \n",
       "\n",
       "                      tickets_custom_field_505895  \\\n",
       "0      gg-xbox-360-camouflage-wireless-controller   \n",
       "1                                 wow-starbucks-6   \n",
       "2                              mymms-com-9-boston   \n",
       "3  gg-tulipmist-ultrasonic-essential-oil-diffuser   \n",
       "4              shari-s-berries-1103-orange-county   \n",
       "\n",
       "                                 tickets_description  ...    \\\n",
       "0  \\nCustomer Contact Reason Drop-down1: Item del...  ...     \n",
       "1  \\nCustomer Contact Reason Drop-down1: Managing...  ...     \n",
       "2  \\nCustomer Contact Reason Drop-down1: Problem ...  ...     \n",
       "3  \\nCustomer Contact Reason Drop-down1: Item del...  ...     \n",
       "4  \\nCustomer Contact Reason Drop-down1: Somethin...  ...     \n",
       "\n",
       "   metric_sets_reply_time_in_minutes_business  \\\n",
       "0                                         401   \n",
       "1                                           0   \n",
       "2                                         101   \n",
       "3                                         406   \n",
       "4                                           0   \n",
       "\n",
       "   metric_sets_reply_time_in_minutes_calendar  \\\n",
       "0                                         557   \n",
       "1                                           4   \n",
       "2                                         101   \n",
       "3                                         525   \n",
       "4                                         477   \n",
       "\n",
       "  metric_sets_requester_updated_at  \\\n",
       "0       2016-12-14 20:24:01.000000   \n",
       "1       2016-12-08 08:25:05.000000   \n",
       "2       2016-12-03 07:02:33.000000   \n",
       "3       2016-12-07 01:13:58.000000   \n",
       "4       2016-12-09 23:12:05.000000   \n",
       "\n",
       "  metric_sets_requester_wait_time_in_minutes_business  \\\n",
       "0                                                401    \n",
       "1                                                  0    \n",
       "2                                               1329    \n",
       "3                                                406    \n",
       "4                                                  0    \n",
       "\n",
       "  metric_sets_requester_wait_time_in_minutes_calendar  \\\n",
       "0                                                557    \n",
       "1                                                  8    \n",
       "2                                               3324    \n",
       "3                                                525    \n",
       "4                                                477    \n",
       "\n",
       "        metric_sets_solved_at  metric_sets_status_updated_at  \\\n",
       "0  2016-12-15 05:40:48.000000     2016-12-29 06:09:00.000000   \n",
       "1  2016-12-15 09:04:09.000000     2016-12-29 10:07:29.000000   \n",
       "2  2016-12-02 01:27:38.000000     2016-12-16 02:09:57.000000   \n",
       "3  2016-12-07 09:58:42.000000     2016-12-21 10:06:38.000000   \n",
       "4  2016-12-08 19:00:26.000000     2016-12-22 20:03:46.000000   \n",
       "\n",
       "       metric_sets_updated_at ticket_channel    lob  \n",
       "0  2016-12-15 05:40:48.000000     Contact Us  Goods  \n",
       "1  2016-12-15 09:04:10.000000     Contact Us  Local  \n",
       "2  2016-12-02 01:27:39.000000     Contact Us  Local  \n",
       "3  2016-12-07 09:58:43.000000     Contact Us  Goods  \n",
       "4  2016-12-08 19:00:26.000000     Contact Us  Local  \n",
       "\n",
       "[5 rows x 43 columns]"
      ]
     },
     "execution_count": 2,
     "metadata": {},
     "output_type": "execute_result"
    }
   ],
   "source": [
    "import pandas as pd\n",
    "import os\n",
    "data_file_path = os.path.join('..', 'SatisfAI-data', 'randomsample500.csv')\n",
    "out_dir = os.path.join('..', 'SatisfAI-data', 'Dec_data')\n",
    "randomsample500 = pd.read_csv(data_file_path)\n",
    "randomsample500.head()"
   ]
  },
  {
   "cell_type": "code",
   "execution_count": 3,
   "metadata": {
    "collapsed": true
   },
   "outputs": [],
   "source": [
    "import spacy\n",
    "nlp = spacy.load('en')"
   ]
  },
  {
   "cell_type": "code",
   "execution_count": 17,
   "metadata": {},
   "outputs": [],
   "source": [
    "text =randomsample500[\"tickets_description\"][0]"
   ]
  },
  {
   "cell_type": "code",
   "execution_count": 21,
   "metadata": {},
   "outputs": [
    {
     "data": {
      "text/plain": [
       "\"\\nCustomer Contact Reason Drop-down1: Item delivery and returns\\n\\nCustomer Contact Reason Drop-down2: I want to return the item I received\\n\\nIssue:  I want to edit or cancel my order\\n\\n\\n Please give us a quick idea of what's going on: : Since I ordered this, there has been no activity in regards to shipping so I would like to cancel my order and get my money back\\n User Name :AnnMarie Lynch \\n Order: https://cs.groupondev.com/users/ann-marie-lynch-12/orders/622331045\""
      ]
     },
     "execution_count": 21,
     "metadata": {},
     "output_type": "execute_result"
    }
   ],
   "source": [
    "text"
   ]
  },
  {
   "cell_type": "code",
   "execution_count": 27,
   "metadata": {},
   "outputs": [
    {
     "data": {
      "text/plain": [
       "' : Since I ordered this, there has been no activity in regards to shipping so I would like to cancel my order and get my money back\\n '"
      ]
     },
     "execution_count": 27,
     "metadata": {},
     "output_type": "execute_result"
    }
   ],
   "source": [
    "#remove the drop down menu text, user name, and order\n",
    "import re\n",
    "\n",
    "dd1 = re.search(\"(Customer Contact Reason Drop-down1:.*\\n)\", text)\n",
    "if dd1:\n",
    "    text = text[dd1.end():]\n",
    "dd2 = re.search(\"(Customer Contact Reason Drop-down2:.*\\n)\", text)\n",
    "if dd2:\n",
    "    text = text[dd2.end():]\n",
    "issue = re.search(\"Please give us a quick idea of what's going on:\", text)\n",
    "if issue:\n",
    "    text = text[issue.end():]\n",
    "user = re.search(\"User Name.*\\n\", text)\n",
    "if user:\n",
    "    text = text[:user.start()]\n",
    "order = re.search(\"Order:.*\\n\", text)\n",
    "if order:\n",
    "    text = text[:order.start()]\n",
    "\n",
    "text"
   ]
  },
  {
   "cell_type": "code",
   "execution_count": 28,
   "metadata": {
    "collapsed": true
   },
   "outputs": [],
   "source": [
    "parsed_text = nlp(text)"
   ]
  },
  {
   "cell_type": "code",
   "execution_count": 29,
   "metadata": {},
   "outputs": [
    {
     "name": "stdout",
     "output_type": "stream",
     "text": [
      "Sentence 1:\n",
      " : Since I ordered this, there has been no activity in regards to shipping so I would like to cancel my order and get my money back\n",
      " \n",
      "\n"
     ]
    }
   ],
   "source": [
    "for num, sentence in enumerate(parsed_text.sents):\n",
    "    print('Sentence {}:'.format(num + 1))\n",
    "    print(sentence)\n",
    "    print('')"
   ]
  },
  {
   "cell_type": "code",
   "execution_count": 33,
   "metadata": {},
   "outputs": [
    {
     "data": {
      "text/plain": [
       "['order', 'activity', 'regard', 'shipping', 'like', 'cancel', 'order', 'money']"
      ]
     },
     "execution_count": 33,
     "metadata": {},
     "output_type": "execute_result"
    }
   ],
   "source": [
    "#normalize text, remove stopwords and punctuation\n",
    "token_lemma = [token.lemma_ for token in parsed_text if not token.is_stop and not token.is_punct and not token.like_num and not token.is_space]\n",
    "token_lemma"
   ]
  }
 ],
 "metadata": {
  "kernelspec": {
   "display_name": "satisfAI",
   "language": "python",
   "name": "satisfai"
  },
  "language_info": {
   "codemirror_mode": {
    "name": "ipython",
    "version": 3
   },
   "file_extension": ".py",
   "mimetype": "text/x-python",
   "name": "python",
   "nbconvert_exporter": "python",
   "pygments_lexer": "ipython3",
   "version": "3.6.1"
  }
 },
 "nbformat": 4,
 "nbformat_minor": 2
}
